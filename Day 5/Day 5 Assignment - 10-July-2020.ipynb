{
 "cells": [
  {
   "cell_type": "markdown",
   "metadata": {},
   "source": [
    "Q1.Write a Python program to find the first 20 non-even prime natural numbers."
   ]
  },
  {
   "cell_type": "code",
   "execution_count": 1,
   "metadata": {},
   "outputs": [
    {
     "name": "stdout",
     "output_type": "stream",
     "text": [
      "3\n",
      "5\n",
      "7\n",
      "11\n",
      "13\n",
      "17\n",
      "19\n",
      "23\n",
      "29\n",
      "31\n",
      "37\n",
      "41\n",
      "43\n",
      "47\n",
      "53\n",
      "59\n",
      "61\n",
      "67\n",
      "71\n",
      "73\n"
     ]
    }
   ],
   "source": [
    "start = 3\n",
    "end = 75\n",
    "for val in range(start, end + 1): \n",
    "    if val > 1: \n",
    "        for n in range(2, val//2 + 2): \n",
    "            if (val % n) == 0: \n",
    "                break\n",
    "            else: \n",
    "                if n == val//2 + 1: \n",
    "                    print(val) "
   ]
  },
  {
   "cell_type": "markdown",
   "metadata": {},
   "source": [
    "Q2.Write a Python program to implement 15 functions of string."
   ]
  },
  {
   "cell_type": "code",
   "execution_count": 2,
   "metadata": {},
   "outputs": [
    {
     "data": {
      "text/plain": [
       "'U'"
      ]
     },
     "execution_count": 2,
     "metadata": {},
     "output_type": "execute_result"
    }
   ],
   "source": [
    "s1=\"LetsUpgrade to data science\"\n",
    "s2=\"LetsUpgrade to AI/ML\"\n",
    "s1[4]"
   ]
  },
  {
   "cell_type": "code",
   "execution_count": 3,
   "metadata": {},
   "outputs": [
    {
     "data": {
      "text/plain": [
       "False"
      ]
     },
     "execution_count": 3,
     "metadata": {},
     "output_type": "execute_result"
    }
   ],
   "source": [
    "s1=\"LetsUpgrade to data science\"\n",
    "s2=\"LetsUpgrade to AI/ML\"\n",
    "s1[2]==s2[16]"
   ]
  },
  {
   "cell_type": "code",
   "execution_count": 4,
   "metadata": {},
   "outputs": [
    {
     "name": "stdout",
     "output_type": "stream",
     "text": [
      "Upgrade to data scienceUpgrade to AI/ML\n",
      "lETSuPGRADE TO DATA SCIENCE\n",
      "letsupgrade to data science\n",
      "LETSUPGRADE TO DATA SCIENCE\n",
      "False\n",
      "LetsUpgrade to data science\n",
      "27\n",
      "-1\n",
      "-1\n"
     ]
    }
   ],
   "source": [
    "s1=\"LetsUpgrade to data science\"\n",
    "s2=\"LetsUpgrade to AI/ML\"\n",
    "print(s1[4:]+s2[4:])\n",
    "print(s1.swapcase())\n",
    "print(s1.lower())\n",
    "print(s1.upper())\n",
    "print(s1.isalpha())\n",
    "print(s1.replace('l','z'))\n",
    "print(len(s1))\n",
    "print(s1.find('W'))\n",
    "print(s1.find('o',5,8))"
   ]
  },
  {
   "cell_type": "code",
   "execution_count": 5,
   "metadata": {},
   "outputs": [
    {
     "name": "stdout",
     "output_type": "stream",
     "text": [
      "<built-in method encode of str object at 0x0000000005119870>\n",
      "False\n",
      "False\n",
      "['My', '@name', 'is', 'sambit', 'My', 'name', 'is', 'Sam']\n",
      "['My @name is sambit', 'My name is Sam']\n",
      "10\n",
      "28\n"
     ]
    }
   ],
   "source": [
    "a=\"My @name is sambit\\nMy name is Sam\"\n",
    "print(a.encode)\n",
    "print(a.isalnum())\n",
    "print(a.islower())\n",
    "print(a.split())\n",
    "print(a.splitlines())\n",
    "print(a.find(\"s\"))\n",
    "print(a.rfind(\"s\"))"
   ]
  },
  {
   "cell_type": "markdown",
   "metadata": {},
   "source": [
    "Q3.Write a Python program to check if the given string is a Palindrome or Anagram or None of them.\n",
    "Display the message accordingly to the user.\n"
   ]
  },
  {
   "cell_type": "code",
   "execution_count": 6,
   "metadata": {},
   "outputs": [
    {
     "name": "stdout",
     "output_type": "stream",
     "text": [
      "Enter first string for anagram check\n",
      "silent\n",
      "Enter second string for anagram check\n",
      "listen\n",
      "silent and listen are anagrams\n",
      "Enter string for palindrome check\n",
      "anna\n",
      "anna is a palindrome\n"
     ]
    }
   ],
   "source": [
    "#For anagram\n",
    "print(\"Enter first string for anagram check\")\n",
    "s1=str(input())\n",
    "print(\"Enter second string for anagram check\")\n",
    "s2=str(input())\n",
    "def check(s1,s2): \n",
    "    if(sorted(s1)== sorted(s2)): \n",
    "        print(s1,\"and\",s2,\"are anagrams\")\n",
    "    else:\n",
    "        print(\"Strings are not anagrams\")\n",
    "check(s1,s2)\n",
    "       \n",
    "#For palindrome\n",
    "print(\"Enter string for palindrome check\")\n",
    "s3=str(input())   \n",
    "s4=s3[::-1]\n",
    "if (sorted(s3)==sorted(s4)):\n",
    "    print(s3,\"is a palindrome\")\n",
    "else:\n",
    "    print(\"Its neither palindrome nor anagram\")\n",
    "\n",
    " "
   ]
  },
  {
   "cell_type": "markdown",
   "metadata": {},
   "source": [
    "Q4.Write a Python's user defined function that removes all the additional characters from the string\n",
    "and converts it finally to lower case using built-in lower(). eg: If the string is \"Dr. Darshan Ingle\n",
    "@AI-ML Trainer\", then the output be \"drdarshaningleaimltrainer\"."
   ]
  },
  {
   "cell_type": "code",
   "execution_count": 7,
   "metadata": {},
   "outputs": [
    {
     "name": "stdout",
     "output_type": "stream",
     "text": [
      "Enter a string\n",
      "Dr. Darshan Ingle @AI-ML Trainer\n",
      "New string without special characters is :\n",
      "DrDarshanIngleAIMLTrainer\n",
      "string in lower case is: \n",
      "drdarshaningleaimltrainer\n"
     ]
    }
   ],
   "source": [
    "#Removing bad characters\n",
    "import string\n",
    "bad_char = ['{', '}' , '@' , \"*\" , '[' , '!' , \".\" , '&' , '-' ,'%' ,' \" ','$' ,']']\n",
    "print(\"Enter a string\")\n",
    "a=str((input()))\n",
    "def convert(a):\n",
    "    delete_dict = {sp_character: '' for sp_character in string.punctuation} \n",
    "    delete_dict[' '] = '' \n",
    "    table = str.maketrans(delete_dict) \n",
    "    a = a.translate(table)\n",
    "    print ('New string without special characters is :\\n' + str(a))\n",
    "    b= a.lower()\n",
    "    print('string in lower case is: \\n' +b)\n",
    "convert(a)\n",
    "#def lower(b):\n",
    "              \n",
    "#lower(b)   "
   ]
  },
  {
   "cell_type": "code",
   "execution_count": null,
   "metadata": {},
   "outputs": [],
   "source": []
  }
 ],
 "metadata": {
  "kernelspec": {
   "display_name": "Python 3",
   "language": "python",
   "name": "python3"
  },
  "language_info": {
   "codemirror_mode": {
    "name": "ipython",
    "version": 3
   },
   "file_extension": ".py",
   "mimetype": "text/x-python",
   "name": "python",
   "nbconvert_exporter": "python",
   "pygments_lexer": "ipython3",
   "version": "3.7.6"
  }
 },
 "nbformat": 4,
 "nbformat_minor": 4
}
