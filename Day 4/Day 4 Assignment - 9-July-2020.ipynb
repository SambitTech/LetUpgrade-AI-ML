{
 "cells": [
  {
   "cell_type": "markdown",
   "metadata": {},
   "source": [
    "Q1.Research on whether addition, subtraction, multiplication, division, floor division and modulo\n",
    "operations be performed on complex numbers. Based on your study, implement a Python\n",
    "program to demonstrate these operations."
   ]
  },
  {
   "cell_type": "code",
   "execution_count": 1,
   "metadata": {},
   "outputs": [
    {
     "data": {
      "text/plain": [
       "(5+8j)"
      ]
     },
     "execution_count": 1,
     "metadata": {},
     "output_type": "execute_result"
    }
   ],
   "source": [
    "#addition\n",
    "a=2+3j\n",
    "b=3+5j\n",
    "c=a+b\n",
    "c"
   ]
  },
  {
   "cell_type": "code",
   "execution_count": 2,
   "metadata": {},
   "outputs": [
    {
     "data": {
      "text/plain": [
       "(-1-2j)"
      ]
     },
     "execution_count": 2,
     "metadata": {},
     "output_type": "execute_result"
    }
   ],
   "source": [
    "#subtraction\n",
    "a=2+3j\n",
    "b=3+5j\n",
    "c=a-b\n",
    "c"
   ]
  },
  {
   "cell_type": "code",
   "execution_count": 3,
   "metadata": {},
   "outputs": [
    {
     "data": {
      "text/plain": [
       "(-9+19j)"
      ]
     },
     "execution_count": 3,
     "metadata": {},
     "output_type": "execute_result"
    }
   ],
   "source": [
    "#Multiplication\n",
    "a=2+3j\n",
    "b=3+5j\n",
    "c=a*b\n",
    "c"
   ]
  },
  {
   "cell_type": "code",
   "execution_count": 4,
   "metadata": {},
   "outputs": [
    {
     "data": {
      "text/plain": [
       "(0.6176470588235294-0.02941176470588238j)"
      ]
     },
     "execution_count": 4,
     "metadata": {},
     "output_type": "execute_result"
    }
   ],
   "source": [
    "#Division\n",
    "a=2+3j\n",
    "b=3+5j\n",
    "c=a/b\n",
    "c"
   ]
  },
  {
   "cell_type": "code",
   "execution_count": 5,
   "metadata": {},
   "outputs": [
    {
     "ename": "TypeError",
     "evalue": "can't take floor of complex number.",
     "output_type": "error",
     "traceback": [
      "\u001b[1;31m---------------------------------------------------------------------------\u001b[0m",
      "\u001b[1;31mTypeError\u001b[0m                                 Traceback (most recent call last)",
      "\u001b[1;32m<ipython-input-5-7f6abab1ffdc>\u001b[0m in \u001b[0;36m<module>\u001b[1;34m\u001b[0m\n\u001b[0;32m      1\u001b[0m \u001b[0ma\u001b[0m\u001b[1;33m=\u001b[0m\u001b[1;36m2\u001b[0m\u001b[1;33m+\u001b[0m\u001b[1;36m3j\u001b[0m\u001b[1;33m\u001b[0m\u001b[1;33m\u001b[0m\u001b[0m\n\u001b[0;32m      2\u001b[0m \u001b[0mb\u001b[0m\u001b[1;33m=\u001b[0m\u001b[1;36m3\u001b[0m\u001b[1;33m+\u001b[0m\u001b[1;36m5j\u001b[0m\u001b[1;33m\u001b[0m\u001b[1;33m\u001b[0m\u001b[0m\n\u001b[1;32m----> 3\u001b[1;33m \u001b[0mc\u001b[0m\u001b[1;33m=\u001b[0m\u001b[0ma\u001b[0m\u001b[1;33m//\u001b[0m\u001b[0mb\u001b[0m\u001b[1;33m\u001b[0m\u001b[1;33m\u001b[0m\u001b[0m\n\u001b[0m\u001b[0;32m      4\u001b[0m \u001b[0mc\u001b[0m\u001b[1;33m\u001b[0m\u001b[1;33m\u001b[0m\u001b[0m\n",
      "\u001b[1;31mTypeError\u001b[0m: can't take floor of complex number."
     ]
    }
   ],
   "source": [
    "a=2+3j\n",
    "b=3+5j\n",
    "c=a//b\n",
    "c"
   ]
  },
  {
   "cell_type": "code",
   "execution_count": 6,
   "metadata": {},
   "outputs": [
    {
     "ename": "TypeError",
     "evalue": "can't mod complex numbers.",
     "output_type": "error",
     "traceback": [
      "\u001b[1;31m---------------------------------------------------------------------------\u001b[0m",
      "\u001b[1;31mTypeError\u001b[0m                                 Traceback (most recent call last)",
      "\u001b[1;32m<ipython-input-6-ac746f3f106a>\u001b[0m in \u001b[0;36m<module>\u001b[1;34m\u001b[0m\n\u001b[0;32m      1\u001b[0m \u001b[0ma\u001b[0m\u001b[1;33m=\u001b[0m\u001b[1;36m2\u001b[0m\u001b[1;33m+\u001b[0m\u001b[1;36m3j\u001b[0m\u001b[1;33m\u001b[0m\u001b[1;33m\u001b[0m\u001b[0m\n\u001b[0;32m      2\u001b[0m \u001b[0mb\u001b[0m\u001b[1;33m=\u001b[0m\u001b[1;36m3\u001b[0m\u001b[1;33m+\u001b[0m\u001b[1;36m5j\u001b[0m\u001b[1;33m\u001b[0m\u001b[1;33m\u001b[0m\u001b[0m\n\u001b[1;32m----> 3\u001b[1;33m \u001b[0mc\u001b[0m\u001b[1;33m=\u001b[0m\u001b[0ma\u001b[0m\u001b[1;33m%\u001b[0m\u001b[0mb\u001b[0m\u001b[1;33m\u001b[0m\u001b[1;33m\u001b[0m\u001b[0m\n\u001b[0m\u001b[0;32m      4\u001b[0m \u001b[0mc\u001b[0m\u001b[1;33m\u001b[0m\u001b[1;33m\u001b[0m\u001b[0m\n",
      "\u001b[1;31mTypeError\u001b[0m: can't mod complex numbers."
     ]
    }
   ],
   "source": [
    "a=2+3j\n",
    "b=3+5j\n",
    "c=a%b\n",
    "c"
   ]
  },
  {
   "cell_type": "code",
   "execution_count": 7,
   "metadata": {},
   "outputs": [
    {
     "name": "stdout",
     "output_type": "stream",
     "text": [
      "floor division= (4+1j)\n"
     ]
    }
   ],
   "source": [
    "#fLOOR OF COMPLEX NUMBERS IS NOT SUPPORTED IN PYTHON3 HENCE BELOW,\n",
    "a=9\n",
    "b=2\n",
    "c=7\n",
    "d=4\n",
    "comp1 = complex(a,b)\n",
    "comp2 = complex(c,d)\n",
    "f1=a//b\n",
    "f2=c//d\n",
    "f=complex(f1,f2)\n",
    "print(\"floor division=\",f)"
   ]
  },
  {
   "cell_type": "code",
   "execution_count": 8,
   "metadata": {},
   "outputs": [
    {
     "name": "stdout",
     "output_type": "stream",
     "text": [
      "floor division= (1+3j)\n"
     ]
    }
   ],
   "source": [
    "#MOD OF COMPLEX NUMBERS IS NOT SUPPORTED IN PYTHON3 HENCE BELOW,\n",
    "a=9\n",
    "b=2\n",
    "c=7\n",
    "d=4\n",
    "comp1 = complex(a,b)\n",
    "comp2 = complex(c,d)\n",
    "f1=a%b\n",
    "f2=c%d\n",
    "f=complex(f1,f2)\n",
    "print(\"floor division=\",f)"
   ]
  },
  {
   "cell_type": "markdown",
   "metadata": {},
   "source": [
    "Q2.Research on range() functions and its parameters. Create a markdown cell and write in your own\n",
    "words (no copy-paste from google please) what you understand about it. Implement a small\n",
    "program of your choice on the same.\n"
   ]
  },
  {
   "cell_type": "markdown",
   "metadata": {},
   "source": [
    "ANSWER:\n",
    "1.Range is an inbuilt function of python which is useed to perform certain action from certain number to certain number\n",
    "\n",
    "2.it will take only int\n",
    "\n",
    "3.it takes the start , stop and step value\n",
    "\n",
    "4.pointer starts from start position and moves till range-positiion (i.e index)\n",
    "\n"
   ]
  },
  {
   "cell_type": "code",
   "execution_count": 9,
   "metadata": {},
   "outputs": [
    {
     "name": "stdout",
     "output_type": "stream",
     "text": [
      "0.5,1.0,1.5,2.0,2.5,3.0,3.5,4.0,4.5,5.0,5.5,6.0,6.5,7.0,7.5,8.0,8.5,9.0,9.5,"
     ]
    }
   ],
   "source": [
    "#Pragram which divided all  numbers between 1 to 20 by 2 and separates them by \",\"\n",
    "for i in range (1,20):\n",
    "   print (i/2, end=',')"
   ]
  },
  {
   "cell_type": "markdown",
   "metadata": {},
   "source": [
    "Q3. Consider two numbers. Perform their subtraction and if the result of subtraction is greater than\n",
    "25, print their multiplication result else print their division result.\n"
   ]
  },
  {
   "cell_type": "code",
   "execution_count": 14,
   "metadata": {},
   "outputs": [
    {
     "name": "stdout",
     "output_type": "stream",
     "text": [
      "Enter first number:\n",
      "89\n",
      "Enter second number:\n",
      "11\n",
      "subtraction of the two number is: 78.0\n",
      "printing multiplication of the number as ,subtraction is greater than 25-> 979.0\n"
     ]
    }
   ],
   "source": [
    "print(\"Enter first number:\")\n",
    "a=float(input())\n",
    "print(\"Enter second number:\")\n",
    "b=float(input())\n",
    "c = a-b\n",
    "print(\"subtraction of the two number is:\",c)\n",
    "if c>25:\n",
    "    print(\"printing multiplication of the number as ,subtraction is greater than 25->\",a*b)\n",
    "else:\n",
    "    print(\"printing division of the number as , subtraction is not greater than 25->\",a/b)"
   ]
  },
  {
   "cell_type": "markdown",
   "metadata": {},
   "source": [
    "Q4.Consider a list of 10 elements of integer values. If the number in the list is divisible by 2, print the\n",
    "result as \"square of that number minus 2\".\n",
    "\n"
   ]
  },
  {
   "cell_type": "code",
   "execution_count": 11,
   "metadata": {},
   "outputs": [
    {
     "name": "stdout",
     "output_type": "stream",
     "text": [
      "2 is divisible by 2 so , square of 2  minus 2 = 2\n",
      "4 is divisible by 2 so , square of 4  minus 2 = 14\n",
      "16 is divisible by 2 so , square of 16  minus 2 = 254\n",
      "54 is divisible by 2 so , square of 54  minus 2 = 2914\n",
      "100 is divisible by 2 so , square of 100  minus 2 = 9998\n"
     ]
    }
   ],
   "source": [
    "l=[2,3,4,13,16,19,21,54,43,100]\n",
    "for i in l:\n",
    "    if i%2==0:\n",
    "        c=((i*i)-2)\n",
    "        print(i,\"is divisible by 2 so , square of\",i,\" minus 2 =\",c)  "
   ]
  },
  {
   "cell_type": "markdown",
   "metadata": {},
   "source": [
    "Q5.Consider a list of 10 elements. Print all the elements in the list which are greater than 7 when that\n",
    "number is divided 2."
   ]
  },
  {
   "cell_type": "code",
   "execution_count": 12,
   "metadata": {},
   "outputs": [
    {
     "name": "stdout",
     "output_type": "stream",
     "text": [
      "41 is greater than 7 when divided by 2\n",
      "20 is greater than 7 when divided by 2\n",
      "21 is greater than 7 when divided by 2\n",
      "54 is greater than 7 when divided by 2\n",
      "43 is greater than 7 when divided by 2\n",
      "105 is greater than 7 when divided by 2\n"
     ]
    }
   ],
   "source": [
    "x=[41,3,20,13,2,7,21,54,43,105]\n",
    "for i in x:\n",
    "    if (i/2 )>7:\n",
    "        print(i,\"is greater than 7 when divided by 2\")"
   ]
  },
  {
   "cell_type": "code",
   "execution_count": null,
   "metadata": {},
   "outputs": [],
   "source": []
  },
  {
   "cell_type": "code",
   "execution_count": null,
   "metadata": {},
   "outputs": [],
   "source": []
  },
  {
   "cell_type": "code",
   "execution_count": null,
   "metadata": {},
   "outputs": [],
   "source": []
  }
 ],
 "metadata": {
  "kernelspec": {
   "display_name": "Python 3",
   "language": "python",
   "name": "python3"
  },
  "language_info": {
   "codemirror_mode": {
    "name": "ipython",
    "version": 3
   },
   "file_extension": ".py",
   "mimetype": "text/x-python",
   "name": "python",
   "nbconvert_exporter": "python",
   "pygments_lexer": "ipython3",
   "version": "3.7.6"
  }
 },
 "nbformat": 4,
 "nbformat_minor": 4
}
