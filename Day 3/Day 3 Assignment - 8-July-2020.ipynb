{
 "cells": [
  {
   "cell_type": "markdown",
   "metadata": {},
   "source": [
    "Q1:Write a program to subtract  two complex numbers  in Python"
   ]
  },
  {
   "cell_type": "code",
   "execution_count": 1,
   "metadata": {},
   "outputs": [
    {
     "name": "stdout",
     "output_type": "stream",
     "text": [
      "(-2-1j)\n"
     ]
    }
   ],
   "source": [
    "a= 4+10j\n",
    "b= 6.0+11j\n",
    "print(a-b)"
   ]
  },
  {
   "cell_type": "code",
   "execution_count": 15,
   "metadata": {},
   "outputs": [
    {
     "name": "stdout",
     "output_type": "stream",
     "text": [
      "Enter 1st complex number\n",
      "10+5j\n",
      "Enter 2nd complex number\n",
      "4+2j\n",
      "After subtraction result is : (6+3j)\n"
     ]
    }
   ],
   "source": [
    "print(\"Enter 1st complex number\")\n",
    "num=complex(input())\n",
    "print(\"Enter 2nd complex number\")\n",
    "num1=complex(input())\n",
    "num2=num-num1\n",
    "print(\"After subtraction result is :\",num2)\n",
    "\n"
   ]
  },
  {
   "cell_type": "markdown",
   "metadata": {},
   "source": [
    "Q2.Write a program to find the fourth root of a number"
   ]
  },
  {
   "cell_type": "code",
   "execution_count": 22,
   "metadata": {},
   "outputs": [
    {
     "name": "stdout",
     "output_type": "stream",
     "text": [
      "Enter a number:32\n",
      "fourth sqaure root of the number is 2.378414230005442\n"
     ]
    }
   ],
   "source": [
    "num3=int(input(\"Enter a number:\"))\n",
    "sqrt = num3 ** (1/4)\n",
    "print(\"fourth sqaure root of the number is\",sqrt)"
   ]
  },
  {
   "cell_type": "markdown",
   "metadata": {},
   "source": [
    "Q3.Write a program to swap two numbers in Python with the help of a temporary variable."
   ]
  },
  {
   "cell_type": "code",
   "execution_count": 35,
   "metadata": {},
   "outputs": [
    {
     "name": "stdout",
     "output_type": "stream",
     "text": [
      "Enter first number45\n",
      "Enter second number89\n",
      "After swapping first number 89\n",
      "After swapping second number 45\n"
     ]
    }
   ],
   "source": [
    "x=int(input(\"Enter first number\"))\n",
    "y=int(input(\"Enter second number\"))\n",
    "temp = x\n",
    "x=y\n",
    "y=temp\n",
    "print(\"After swapping first number\",x)\n",
    "print(\"After swapping second number\",y)"
   ]
  },
  {
   "cell_type": "code",
   "execution_count": 33,
   "metadata": {},
   "outputs": [
    {
     "name": "stdout",
     "output_type": "stream",
     "text": [
      "after swapping x is: 10\n",
      "after swapping y is: 5\n"
     ]
    }
   ],
   "source": [
    "x=5\n",
    "y=10\n",
    "temp=x\n",
    "x=y\n",
    "y=temp\n",
    "print(\"after swapping x is:\",x)\n",
    "print(\"after swapping y is:\",y)"
   ]
  },
  {
   "cell_type": "markdown",
   "metadata": {},
   "source": [
    "Q4.Write a program to swap two numbers in Python without using a temporary variable."
   ]
  },
  {
   "cell_type": "code",
   "execution_count": 34,
   "metadata": {},
   "outputs": [
    {
     "name": "stdout",
     "output_type": "stream",
     "text": [
      "Enter first number43\n",
      "Enter second number78\n",
      "after swapping first number 78\n",
      "after swapping second number 43\n"
     ]
    }
   ],
   "source": [
    "x=int(input(\"Enter first number\"))\n",
    "y=int(input(\"Enter second number\"))\n",
    "x=x+y\n",
    "y=x-y\n",
    "x=x-y\n",
    "print(\"after swapping first number\",x)\n",
    "print(\"after swapping second number\",y)"
   ]
  },
  {
   "cell_type": "markdown",
   "metadata": {},
   "source": [
    "Q5.Write a program to convert fahrenheit to kelvin and celsius both."
   ]
  },
  {
   "cell_type": "code",
   "execution_count": 38,
   "metadata": {},
   "outputs": [
    {
     "name": "stdout",
     "output_type": "stream",
     "text": [
      "Enter temperature in fahrenheit :45.96\n",
      "Temperature in celsius is: 7.755555555555556\n",
      "Temperature in Kelvin is: 281.25555555555553\n"
     ]
    }
   ],
   "source": [
    "x=float(input(\"Enter temperature in fahrenheit :\"))\n",
    "celsius = (x-32)*5/9\n",
    "kelvin = 273.5 +((x-32)*(5/9))\n",
    "print(\"Temperature in celsius is:\",celsius)\n",
    "print(\"Temperature in Kelvin is:\",kelvin)\n"
   ]
  },
  {
   "cell_type": "markdown",
   "metadata": {},
   "source": [
    "Q6.Write a program to demonstrate all the available data types in Python. Hint: Use type() function."
   ]
  },
  {
   "cell_type": "code",
   "execution_count": 73,
   "metadata": {},
   "outputs": [
    {
     "name": "stdout",
     "output_type": "stream",
     "text": [
      "<class 'int'>\n",
      "<class 'str'>\n",
      "<class 'complex'>\n",
      "<class 'float'>\n",
      "<class 'bool'>\n",
      "<class 'tuple'>\n",
      "<class 'set'>\n"
     ]
    }
   ],
   "source": [
    "a = 0\n",
    "type(a)\n",
    "print(type(a))\n",
    "b=\"sambit\"\n",
    "print(type(b))\n",
    "c= 1+3j\n",
    "print(type(c))\n",
    "d= 5.77\n",
    "print(type(d))\n",
    "e=True\n",
    "print(type(e))\n",
    "f=(1,2,3)\n",
    "print(type(f))\n",
    "g={1,2,3,4}\n",
    "print(type(g))"
   ]
  },
  {
   "cell_type": "markdown",
   "metadata": {},
   "source": [
    "Q7.Create a Markdown cell in jupyter and list the steps discussed in the session by Dr. Darshan\n",
    "Ingle sir to create Github profile and upload Githubs Assignment link.\n",
    "\n",
    "1.Open GITHUB profile by signup\n",
    "\n",
    "2.Create repository with name LetsUpgrade-AI-ML\n",
    "\n",
    "3.Create a folder with the DAY number and code in your Jupyter notebook/Google colab and upload that foder into Github repository created\n",
    "\n",
    "4.After successful uploading copy the link and fill the google form given by letsupgarde team and submit it.\n",
    "\n",
    "5.You will receive a email confirmation on successful submission"
   ]
  },
  {
   "cell_type": "code",
   "execution_count": null,
   "metadata": {},
   "outputs": [],
   "source": []
  }
 ],
 "metadata": {
  "kernelspec": {
   "display_name": "Python 3",
   "language": "python",
   "name": "python3"
  }
 },
 "nbformat": 4,
 "nbformat_minor": 4
}
